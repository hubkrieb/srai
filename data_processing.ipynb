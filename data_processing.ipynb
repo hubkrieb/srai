{
 "cells": [
  {
   "cell_type": "code",
   "execution_count": null,
   "id": "dfcfc153",
   "metadata": {},
   "outputs": [],
   "source": [
    "import pandas as pd\n",
    "import torch\n",
    "\n",
    "from srai.joiners import IntersectionJoiner\n",
    "from srai.loaders.osm_loaders.filters import GEOFABRIK_LAYERS\n",
    "from srai.plotting import plot_regions\n",
    "from srai.regionalizers import S2Regionalizer, geocode_to_region_gdf\n",
    "\n",
    "area_gdf = geocode_to_region_gdf(\"Metropolitan France\")\n",
    "plot_regions(area_gdf, tiles_style=\"CartoDB positron\")"
   ]
  },
  {
   "cell_type": "code",
   "execution_count": 8,
   "id": "8c95094a",
   "metadata": {},
   "outputs": [
    {
     "name": "stdout",
     "output_type": "stream",
     "text": [
      "Image regions: 598\n"
     ]
    }
   ],
   "source": [
    "img_resolution = 8\n",
    "patch_resolution = 12\n",
    "\n",
    "img_regionalizer = S2Regionalizer(resolution=img_resolution, buffer=False)\n",
    "img_s2_regions = img_regionalizer.transform(area_gdf.reset_index(drop=True))\n",
    "\n",
    "img_s2_geometry = img_s2_regions.union_all()\n",
    "\n",
    "print(\"Image regions:\", len(img_s2_regions))"
   ]
  },
  {
   "cell_type": "code",
   "execution_count": null,
   "id": "bb9d047b",
   "metadata": {},
   "outputs": [],
   "source": [
    "plot_regions(\n",
    "    img_s2_regions,\n",
    "    tiles_style=\"CartoDB positron\",\n",
    ")"
   ]
  },
  {
   "cell_type": "code",
   "execution_count": null,
   "id": "40f596bc",
   "metadata": {},
   "outputs": [],
   "source": [
    "from torch.utils.data import DataLoader, random_split\n",
    "\n",
    "from srai.embedders.count_embedder import CountEmbedder\n",
    "from srai.embedders.s2vec.dataset import S2VecDataset\n",
    "from srai.embedders.s2vec.s2_utils import get_patches_from_img_gdf\n",
    "from srai.loaders.osm_loaders.osm_pbf_loader import OSMPbfLoader\n",
    "\n",
    "tags = GEOFABRIK_LAYERS\n",
    "loader = OSMPbfLoader(pbf_file=\"france-latest.osm.pbf\")\n",
    "joiner = IntersectionJoiner()\n",
    "\n",
    "preproc_batch_size = 1\n",
    "\n",
    "for i in range(0, len(img_s2_regions), preproc_batch_size):\n",
    "    batch = img_s2_regions.iloc[i:i + preproc_batch_size]\n",
    "    print(f\"Processing batch {i // preproc_batch_size + 1} of {len(img_s2_regions) // preproc_batch_size + 1}\")\n",
    "    batch_features_gdf = loader.load(batch, tags)\n",
    "    patches_gdf, img_patch_joint_gdf = get_patches_from_img_gdf(\n",
    "    img_gdf=img_s2_regions, target_level=patch_resolution\n",
    "    )\n",
    "    joiner = IntersectionJoiner()\n",
    "    patch_feature_joint_gdf = joiner.transform(patches_gdf, batch_features_gdf)\n",
    "    count_embedder = CountEmbedder(GEOFABRIK_LAYERS)\n",
    "    counts_df = count_embedder.transform(patches_gdf, batch_features_gdf, patch_feature_joint_gdf)\n",
    "    print(counts_df)\n",
    "    break"
   ]
  }
 ],
 "metadata": {
  "kernelspec": {
   "display_name": ".venv",
   "language": "python",
   "name": "python3"
  },
  "language_info": {
   "codemirror_mode": {
    "name": "ipython",
    "version": 3
   },
   "file_extension": ".py",
   "mimetype": "text/x-python",
   "name": "python",
   "nbconvert_exporter": "python",
   "pygments_lexer": "ipython3",
   "version": "3.12.6"
  }
 },
 "nbformat": 4,
 "nbformat_minor": 5
}
