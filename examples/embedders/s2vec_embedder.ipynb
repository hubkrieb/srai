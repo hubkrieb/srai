{
 "cells": [
  {
   "cell_type": "code",
   "execution_count": null,
   "id": "afa4db1d",
   "metadata": {},
   "outputs": [],
   "source": [
    "import warnings\n",
    "\n",
    "import pandas as pd\n",
    "import torch\n",
    "from pytorch_lightning import seed_everything\n",
    "from sklearn.cluster import KMeans\n",
    "from sklearn.decomposition import PCA\n",
    "\n",
    "from srai.embedders import S2VecEmbedder\n",
    "from srai.embedders.s2vec.s2_utils import get_patches_from_img_gdf\n",
    "from srai.loaders import OSMPbfLoader\n",
    "from srai.loaders.osm_loaders.filters import GEOFABRIK_LAYERS\n",
    "from srai.plotting import plot_numeric_data, plot_regions\n",
    "from srai.regionalizers import S2Regionalizer, geocode_to_region_gdf"
   ]
  },
  {
   "cell_type": "code",
   "execution_count": null,
   "id": "ecae0d16",
   "metadata": {},
   "outputs": [],
   "source": [
    "SEED = 71\n",
    "seed_everything(SEED)"
   ]
  },
  {
   "cell_type": "markdown",
   "id": "16d00f28",
   "metadata": {},
   "source": [
    "### Load data from OSM"
   ]
  },
  {
   "cell_type": "markdown",
   "id": "4c3b56bb",
   "metadata": {},
   "source": [
    "First use geocoding to get the area"
   ]
  },
  {
   "cell_type": "code",
   "execution_count": null,
   "id": "76e0b170",
   "metadata": {},
   "outputs": [],
   "source": [
    "area_gdf = geocode_to_region_gdf(\"Wrocław, Poland\")\n",
    "plot_regions(area_gdf, tiles_style=\"CartoDB positron\")"
   ]
  },
  {
   "cell_type": "code",
   "execution_count": null,
   "id": "939c6022",
   "metadata": {},
   "outputs": [],
   "source": [
    "img_resolution = 12\n",
    "patch_resolution = 16\n",
    "\n",
    "img_regionalizer = S2Regionalizer(resolution=img_resolution, buffer=True)\n",
    "img_s2_regions = img_regionalizer.transform(area_gdf.reset_index(drop=True))\n",
    "\n",
    "img_s2_geometry = img_s2_regions.union_all()\n",
    "\n",
    "print(\"Image regions:\", len(img_s2_regions))"
   ]
  },
  {
   "cell_type": "markdown",
   "id": "e53e1193",
   "metadata": {},
   "source": [
    "### Download the Data\n"
   ]
  },
  {
   "cell_type": "markdown",
   "id": "b7d3bd81",
   "metadata": {},
   "source": [
    "Next, download the data for the selected region and the specified tags.\n"
   ]
  },
  {
   "cell_type": "code",
   "execution_count": null,
   "id": "0ad378f2",
   "metadata": {},
   "outputs": [],
   "source": [
    "tags = GEOFABRIK_LAYERS\n",
    "loader = OSMPbfLoader()\n",
    "\n",
    "features_gdf = loader.load(img_s2_regions, tags)"
   ]
  },
  {
   "cell_type": "markdown",
   "id": "70c68cf3",
   "metadata": {},
   "source": [
    "## Prepare the data for embedding\n"
   ]
  },
  {
   "cell_type": "markdown",
   "id": "c05d2cda",
   "metadata": {},
   "source": [
    "After downloading the data, we need to prepare it for embedding. In the previous step we have regionalized the selected area and buffered it, now we have to join the features with prepared regions.\n"
   ]
  },
  {
   "cell_type": "code",
   "execution_count": null,
   "id": "7c0665f1",
   "metadata": {},
   "outputs": [],
   "source": [
    "plot_regions(img_s2_regions, tiles_style=\"CartoDB positron\")"
   ]
  },
  {
   "cell_type": "markdown",
   "id": "cb99fad0",
   "metadata": {},
   "source": [
    "## S2Vec Embedding\n"
   ]
  },
  {
   "cell_type": "markdown",
   "id": "56b03e26",
   "metadata": {},
   "source": [
    "After preparing the data we can proceed with generating embeddings for the regions.\n"
   ]
  },
  {
   "cell_type": "code",
   "execution_count": null,
   "id": "0e2abe18",
   "metadata": {},
   "outputs": [],
   "source": [
    "embedder = S2VecEmbedder(\n",
    "    target_features=GEOFABRIK_LAYERS,\n",
    "    batch_size=8,\n",
    "    img_res=img_resolution,\n",
    "    patch_res=patch_resolution,\n",
    "    embedding_dim=256\n",
    ")"
   ]
  },
  {
   "cell_type": "code",
   "execution_count": null,
   "id": "dad6a086",
   "metadata": {},
   "outputs": [],
   "source": [
    "with warnings.catch_warnings():\n",
    "    warnings.simplefilter(\"ignore\")\n",
    "\n",
    "    embeddings = embedder.fit_transform(\n",
    "        regions_gdf=img_s2_regions,\n",
    "        features_gdf=features_gdf,\n",
    "        trainer_kwargs={\n",
    "            # \"max_epochs\": 20, # uncomment for a longer training\n",
    "            \"max_epochs\": 5,\n",
    "            \"accelerator\": (\n",
    "                \"cpu\" if torch.backends.mps.is_available() else \"auto\"\n",
    "            ),\n",
    "        },\n",
    "        learning_rate=0.001,\n",
    "    )\n",
    "\n",
    "embeddings.head()"
   ]
  },
  {
   "cell_type": "code",
   "execution_count": null,
   "id": "b0fea143",
   "metadata": {},
   "outputs": [],
   "source": [
    "patch_s2_regions, _ = get_patches_from_img_gdf(img_s2_regions, target_level=patch_resolution)\n",
    "\n",
    "# do pca with three components and then cast to RGB\n",
    "pca = PCA(n_components=3)\n",
    "\n",
    "pca_embeddings = pca.fit_transform(embeddings)\n",
    "# make the embeddings into a dataframe\n",
    "pca_embeddings = pd.DataFrame(pca_embeddings, index=embeddings.index)\n",
    "\n",
    "# convert to RGB\n",
    "pca_embeddings = (\n",
    "    (pca_embeddings - pca_embeddings.min()) / (pca_embeddings.max() - pca_embeddings.min()) * 255\n",
    ").astype(int)\n",
    "\n",
    "# make the rgb array into a string\n",
    "pca_embeddings[\"rgb\"] = pca_embeddings.apply(\n",
    "    lambda row: f\"rgb({row[0]}, {row[1]}, {row[2]})\", axis=1\n",
    ")\n",
    "\n",
    "\n",
    "color_dict = dict(enumerate(patch_s2_regions.index.map(pca_embeddings[\"rgb\"].to_dict()).to_list()))\n",
    "patch_s2_regions.reset_index().reset_index().explore(\n",
    "    column=\"index\",\n",
    "    tooltip=\"region_id\",\n",
    "    tiles=\"CartoDB positron\",\n",
    "    legend=False,\n",
    "    cmap=lambda x: color_dict[x],\n",
    "    style_kwds=dict(color=\"#444\", opacity=0.0, fillOpacity=0.5),\n",
    ")"
   ]
  },
  {
   "cell_type": "markdown",
   "id": "bfa3cfbd",
   "metadata": {},
   "source": [
    "### Clustering\n"
   ]
  },
  {
   "cell_type": "code",
   "execution_count": null,
   "id": "2066ab3c",
   "metadata": {},
   "outputs": [],
   "source": [
    "clusterizer = KMeans(n_clusters=5, random_state=SEED)\n",
    "clusterizer.fit(embeddings)\n",
    "embeddings.index.name = \"region_id\"\n",
    "embeddings[\"cluster\"] = clusterizer.labels_\n",
    "embeddings[\"cluster\"]"
   ]
  },
  {
   "cell_type": "code",
   "execution_count": null,
   "id": "374629bf",
   "metadata": {},
   "outputs": [],
   "source": [
    "plot_numeric_data(patch_s2_regions, \"cluster\", embeddings, tiles_style=\"CartoDB positron\")"
   ]
  }
 ],
 "metadata": {
  "kernelspec": {
   "display_name": ".venv",
   "language": "python",
   "name": "python3"
  },
  "language_info": {
   "codemirror_mode": {
    "name": "ipython",
    "version": 3
   },
   "file_extension": ".py",
   "mimetype": "text/x-python",
   "name": "python",
   "nbconvert_exporter": "python",
   "pygments_lexer": "ipython3",
   "version": "3.12.6"
  }
 },
 "nbformat": 4,
 "nbformat_minor": 5
}
